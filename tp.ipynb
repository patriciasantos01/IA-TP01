{
 "cells": [
  {
   "cell_type": "markdown",
   "metadata": {},
   "source": [
    "# CONSTRAINT SATISFACTION PROBLEMS (CSP)\n",
    "\n",
    "This IPy notebook uses of the implementations in **csp.py** module provided in the supporting materials of the book* Artificial Intelligence: A Modern Approach*.\n"
   ]
  },
  {
   "cell_type": "code",
   "execution_count": 1,
   "metadata": {},
   "outputs": [
    {
     "ename": "ModuleNotFoundError",
     "evalue": "No module named 'sortedcontainers'",
     "output_type": "error",
     "traceback": [
      "\u001b[1;31m---------------------------------------------------------------------------\u001b[0m",
      "\u001b[1;31mModuleNotFoundError\u001b[0m                       Traceback (most recent call last)",
      "Cell \u001b[1;32mIn[1], line 1\u001b[0m\n\u001b[1;32m----> 1\u001b[0m \u001b[39mfrom\u001b[39;00m \u001b[39mcsp\u001b[39;00m \u001b[39mimport\u001b[39;00m \u001b[39m*\u001b[39m\n\u001b[0;32m      2\u001b[0m \u001b[39m# from notebook import psource, plot_NQueens\u001b[39;00m\n\u001b[0;32m      3\u001b[0m \n\u001b[0;32m      4\u001b[0m \u001b[39m# %matplotlib inline\u001b[39;00m\n\u001b[0;32m      5\u001b[0m \u001b[39m# Hide warnings in the matplotlib sections\u001b[39;00m\n\u001b[0;32m      7\u001b[0m \u001b[39mimport\u001b[39;00m \u001b[39mmath\u001b[39;00m\n",
      "File \u001b[1;32mc:\\Users\\Utilizador\\Desktop\\LESI\\3º - 2223\\Inteligência Artificial\\TP01\\Implementation\\csp.py:11\u001b[0m\n\u001b[0;32m      8\u001b[0m \u001b[39mfrom\u001b[39;00m \u001b[39mfunctools\u001b[39;00m \u001b[39mimport\u001b[39;00m reduce\n\u001b[0;32m      9\u001b[0m \u001b[39mfrom\u001b[39;00m \u001b[39moperator\u001b[39;00m \u001b[39mimport\u001b[39;00m eq, neg\n\u001b[1;32m---> 11\u001b[0m \u001b[39mfrom\u001b[39;00m \u001b[39msortedcontainers\u001b[39;00m \u001b[39mimport\u001b[39;00m SortedSet\n\u001b[0;32m     13\u001b[0m \u001b[39mimport\u001b[39;00m \u001b[39msearch\u001b[39;00m\n\u001b[0;32m     14\u001b[0m \u001b[39mfrom\u001b[39;00m \u001b[39mutils\u001b[39;00m \u001b[39mimport\u001b[39;00m argmin_random_tie, count, first, extend\n",
      "\u001b[1;31mModuleNotFoundError\u001b[0m: No module named 'sortedcontainers'"
     ]
    }
   ],
   "source": [
    "from csp import *\n",
    "# from notebook import psource, plot_NQueens\n",
    "\n",
    "# %matplotlib inline\n",
    "# Hide warnings in the matplotlib sections\n",
    "\n",
    "import math\n",
    "import warnings\n",
    "warnings.filterwarnings(\"ignore\")"
   ]
  },
  {
   "cell_type": "markdown",
   "metadata": {},
   "source": [
    "\n",
    "## \"Get a ride to Campus\" Problem\n",
    "How to assign passengers to vehicles from home/work to Campus and from Campus to home, minimizing the number of required trips.\n",
    "* Each vehicle owner can give a ride of 1 to 4 passengers;\n",
    "* The vehicle owners and passengers should be assigned to one single location;\n",
    "* Passengers from distinct locations in the same path to the Campus can be assigned to the same trip;\n",
    "* Each passenger has a schedule that defines the latest hour (min) to be on Campus and earliest hour (max) to leave the Campus;\n",
    "* If we consider the tree of paths from the Campus to the locations, each main branch can be treated independently.\n",
    "\n",
    "In the case of IPCA, we could consider:\n",
    "* Locations: Amr, Braga, Gmr, Joane, PL, Prado, PV, Trofa, VC, VdC, VNF, IPCA\n",
    "* Paths: AMR-Prado-IPCA, VV-Prado-IPCA, AMR-Braga-IPCA, PL-Braga-IPCA, Gmr-Braga-IPCA, Joane-VNF-IPCA, Trofa-VNF-IPCA, VC-PV-IPCA\n",
    "* Schedules, trip to Campus: 9h, 11h, 14h\n",
    "* Schedules, trip from Campus: 13h, 16h, 18h\n",
    "\n",
    "This demo takes into account a single branch and the trips to IPCA:\n",
    "* ...\n",
    "\n",
    "New functions created for this CSP:\n",
    "* atmost_five  - returns TRUE if each vehicle is assigned to 5 or less passengers, including the driver;\n",
    "* ...\n",
    "\n",
    "## Variables\n",
    "* Passageiros: P1,P2,P3,P4,P5,P6,P7,P8,P9,P10\n",
    "* Rotas: R1(VC,Esp,Bcl), R2(Fam,Bcl), R3(VV,Bcl), R4(F,G,B,Bcl)\n",
    "* Cities: VC,Esp,Fam,VV,F,G,B,Bcl\n",
    "* Veiculos: P2,P3,P9\n",
    "* Viagens: 2 por dia (V1, V2)\n",
    "* TimeSlots: 5days*2trips = 10\n",
    "\n",
    "## Constraints\n",
    "* Os condutores nãoo podem circular no mesmo veículo\n",
    "* P1 e P5 não se dão bem, logo não podem circular no mesmo veículo\n",
    "* Máximo de 5 passageiros por veículo\n",
    "* Um passageiro só pode fazer uma rota por viagem\n",
    "\n"
   ]
  },
  {
   "cell_type": "code",
   "execution_count": 2,
   "metadata": {},
   "outputs": [
    {
     "ename": "NameError",
     "evalue": "name 'Constraint' is not defined",
     "output_type": "error",
     "traceback": [
      "\u001b[1;31m---------------------------------------------------------------------------\u001b[0m",
      "\u001b[1;31mNameError\u001b[0m                                 Traceback (most recent call last)",
      "Cell \u001b[1;32mIn[2], line 20\u001b[0m\n\u001b[0;32m     14\u001b[0m dominio \u001b[39m=\u001b[39m  {\n\u001b[0;32m     15\u001b[0m             \u001b[39m'\u001b[39m\u001b[39mP1\u001b[39m\u001b[39m'\u001b[39m:\u001b[39mset\u001b[39m(\u001b[39mrange\u001b[39m(\u001b[39m1\u001b[39m,\u001b[39m4\u001b[39m)), \u001b[39m'\u001b[39m\u001b[39mP2\u001b[39m\u001b[39m'\u001b[39m: \u001b[39mset\u001b[39m(\u001b[39mrange\u001b[39m(\u001b[39m4\u001b[39m,\u001b[39m7\u001b[39m)), \u001b[39m'\u001b[39m\u001b[39mP3\u001b[39m\u001b[39m'\u001b[39m: \u001b[39mset\u001b[39m(\u001b[39mrange\u001b[39m(\u001b[39m7\u001b[39m,\u001b[39m14\u001b[39m))\n\u001b[0;32m     16\u001b[0m             }\n\u001b[0;32m     18\u001b[0m \u001b[39m# constraints definition\u001b[39;00m\n\u001b[0;32m     19\u001b[0m restricoes \u001b[39m=\u001b[39m   [\n\u001b[1;32m---> 20\u001b[0m                 Constraint((\u001b[39m'\u001b[39m\u001b[39mP1\u001b[39m\u001b[39m'\u001b[39m,\u001b[39m'\u001b[39m\u001b[39mP2\u001b[39m\u001b[39m'\u001b[39m,\u001b[39m'\u001b[39m\u001b[39mP3\u001b[39m\u001b[39m'\u001b[39m), all_diff_constraint(dominio))\n\u001b[0;32m     21\u001b[0m                 ]\n\u001b[0;32m     23\u001b[0m \u001b[39m# Get_ride\u001b[39;00m\n\u001b[0;32m     24\u001b[0m get_ride \u001b[39m=\u001b[39m NaryCSP(dominio, restricoes)\n",
      "\u001b[1;31mNameError\u001b[0m: name 'Constraint' is not defined"
     ]
    }
   ],
   "source": [
    "# GET A RIDE TO AND FROM CAMPUS\n",
    "\n",
    "# domain definition\n",
    "dominio =  {\n",
    "            'R1P2V1': set(range(1,5)), 'R1P2V2': set(range(6,10)),\n",
    "            'R1P3V1': set(range(1,5)), 'R1P3V2': set(range(6,10)), \n",
    "            'R1P9V1': set(range(1,5)), 'R1P9V2': set(range(6,10)),\n",
    "            'R2P2V1': set(range(1,5)), 'R2P2V2': set(range(6,10)), \n",
    "            'R2P3V1': set(range(1,5)), 'R2P3V2': set(range(6,10)), \n",
    "            'R3P9V1': set(range(1,5)), 'R3P9V2': set(range(6,10)),\n",
    "            'R3P2V1': set(range(1,5)), 'R3P2V2': set(range(6,10)), \n",
    "            'R3P3V1': set(range(1,5)), 'R3P3V2': set(range(6,10)), \n",
    "            'R3P9V1': set(range(1,5)), 'R3P9V2': set(range(6,10)),\n",
    "            'R4P2V1': set(range(1,5)), 'R4P2V2': set(range(6,10)), \n",
    "            'R4P3V1': set(range(1,5)), 'R4P3V2': set(range(6,10)), \n",
    "            'R4P9V1': set(range(1,5)), 'R4P9V2': set(range(6,10)),\n",
    "            }\n",
    "\n",
    "# constraints definition\n",
    "restricoes =  [\n",
    "                Constraint(('P2','P3','P9'), all_diff_constraint),\n",
    "                Constraint(('P1','P5'), all_diff_constraint),\n",
    "                Constraint(('P2R1', 'P2R2','P2R3', 'P2R4'), all_diff_constraint),\n",
    "                Constraint(('P3R1', 'P3R2','P3R3', 'P3R4'), all_diff_constraint),\n",
    "                Constraint(('P9R1', 'P9R2','P9R3', 'P9R4'), all_diff_constraint),\n",
    "            ]\n",
    "\n",
    "# Get_ride\n",
    "get_ride = NaryCSP(dominio, restricoes)\n",
    "\n",
    "# print variables\n",
    "print(get_ride.variables)\n",
    "\n",
    "# Result\n",
    "ac_solver(get_ride, arc_heuristic=sat_up)"
   ]
  }
 ],
 "metadata": {
  "kernelspec": {
   "display_name": "Python 3.11.0 64-bit",
   "language": "python",
   "name": "python3"
  },
  "language_info": {
   "codemirror_mode": {
    "name": "ipython",
    "version": 3
   },
   "file_extension": ".py",
   "mimetype": "text/x-python",
   "name": "python",
   "nbconvert_exporter": "python",
   "pygments_lexer": "ipython3",
   "version": "3.11.0"
  },
  "orig_nbformat": 4,
  "vscode": {
   "interpreter": {
    "hash": "693676c795e0dce623c8801847e65a71377e2f5b412edd1dbce8d35b1da40476"
   }
  }
 },
 "nbformat": 4,
 "nbformat_minor": 2
}
